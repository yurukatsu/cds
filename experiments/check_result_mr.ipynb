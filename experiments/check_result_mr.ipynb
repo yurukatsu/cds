{
 "cells": [
  {
   "cell_type": "code",
   "execution_count": 2,
   "metadata": {},
   "outputs": [],
   "source": [
    "%load_ext autoreload\n",
    "%autoreload 2"
   ]
  },
  {
   "cell_type": "code",
   "execution_count": 3,
   "metadata": {},
   "outputs": [],
   "source": [
    "from pathlib import Path\n",
    "\n",
    "import numpy as np\n",
    "import pandas as pd"
   ]
  },
  {
   "cell_type": "code",
   "execution_count": 4,
   "metadata": {},
   "outputs": [],
   "source": [
    "INPUT_DIR = Path(\"../data/output/markov_regression/01\")"
   ]
  },
  {
   "cell_type": "code",
   "execution_count": 5,
   "metadata": {},
   "outputs": [],
   "source": [
    "files  = list((INPUT_DIR / \"tmp\").glob(\"*/results.csv\"))\n",
    "dfs = []\n",
    "for f in files:\n",
    "    df_ = pd.read_csv(f, na_values=[None])\n",
    "    dfs.append(df_)\n",
    "df = pd.concat(dfs, axis=0).sort_values(\"date\")"
   ]
  },
  {
   "cell_type": "code",
   "execution_count": 6,
   "metadata": {},
   "outputs": [
    {
     "name": "stdout",
     "output_type": "stream",
     "text": [
      "count: 24\n",
      "count (dropna): 24\n"
     ]
    }
   ],
   "source": [
    "df_mean  = df.groupby(\"date\")[[\"target\", \"pred_max\", \"pred_avg\"]].mean()\n",
    "print(\n",
    "    f\"count: {len(df_mean)}\\n\"\n",
    "    f\"count (dropna): {len(df_mean.dropna(how='any'))}\"\n",
    ")"
   ]
  },
  {
   "cell_type": "code",
   "execution_count": 7,
   "metadata": {},
   "outputs": [
    {
     "name": "stdout",
     "output_type": "stream",
     "text": [
      "0.00010398358910663672 2.6455740111113265e-05 6.670119840177207\n"
     ]
    }
   ],
   "source": [
    "nobs = len(df_mean)\n",
    "mae_max = np.sum(np.abs(df_mean[\"target\"] - df_mean[\"pred_max\"])) / nobs\n",
    "msre_max = np.sqrt(np.sum((df_mean[\"target\"] - df_mean[\"pred_max\"])**2)) / nobs\n",
    "mape_max = np.sum(np.abs(df_mean[\"target\"] - df_mean[\"pred_max\"]) / np.abs(df_mean[\"target\"])) / nobs\n",
    "\n",
    "print(mae_max, msre_max, mape_max)"
   ]
  },
  {
   "cell_type": "code",
   "execution_count": null,
   "metadata": {},
   "outputs": [],
   "source": []
  }
 ],
 "metadata": {
  "kernelspec": {
   "display_name": ".venv",
   "language": "python",
   "name": "python3"
  },
  "language_info": {
   "codemirror_mode": {
    "name": "ipython",
    "version": 3
   },
   "file_extension": ".py",
   "mimetype": "text/x-python",
   "name": "python",
   "nbconvert_exporter": "python",
   "pygments_lexer": "ipython3",
   "version": "3.10.4"
  },
  "orig_nbformat": 4,
  "vscode": {
   "interpreter": {
    "hash": "1a128c7ce5939d92372c578474fdee444918ab196771a5995f1a7ca7300b8239"
   }
  }
 },
 "nbformat": 4,
 "nbformat_minor": 2
}
